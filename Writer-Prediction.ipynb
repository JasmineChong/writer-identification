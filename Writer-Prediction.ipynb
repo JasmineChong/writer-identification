{
 "cells": [
  {
   "cell_type": "markdown",
   "id": "125072bb",
   "metadata": {},
   "source": [
    "# Writer Identifier Based on Handwriting"
   ]
  },
  {
   "cell_type": "markdown",
   "id": "a555f748",
   "metadata": {},
   "source": [
    "## Resize Input Image to 28 x 28\n",
    "Resize but also aiming to retain the aspect ratio of image (reduce distortion)."
   ]
  },
  {
   "cell_type": "code",
   "execution_count": 31,
   "id": "cc42d046",
   "metadata": {},
   "outputs": [],
   "source": [
    "import os\n",
    "from PIL import Image\n",
    "\n",
    "def resizeImage(image_number): \n",
    "\n",
    "    input_dir = 'Prediction-Test-Datasets'\n",
    "\n",
    "    output_dir = 'Resized-Prediction-Test-Datasets'\n",
    "    target_size = (28, 28)\n",
    "\n",
    "    # Load the image\n",
    "    img_path = f\"{input_dir}/Predict-{image_number}.jpg\"\n",
    "    img = Image.open(img_path)\n",
    "        \n",
    "    # Resize the image while maintaining the aspect ratio using thumbnail method\n",
    "    img.thumbnail(target_size, Image.ANTIALIAS)\n",
    "        \n",
    "    # Create a new image with the target size as canvas\n",
    "    resized_image = Image.new('L', target_size, 255)\n",
    "        \n",
    "    # Paste the resized image onto the canvas\n",
    "    offset = ((target_size[0] - img.size[0]) // 2, (target_size[1] - img.size[1]) // 2)\n",
    "    resized_image.paste(img, offset)\n",
    "        \n",
    "    return resized_image\n"
   ]
  },
  {
   "cell_type": "markdown",
   "id": "ff559830",
   "metadata": {},
   "source": [
    "## Import Libraries and Load Model"
   ]
  },
  {
   "cell_type": "code",
   "execution_count": 32,
   "id": "03a61d11",
   "metadata": {},
   "outputs": [],
   "source": [
    "from tensorflow.keras.models import load_model\n",
    "import numpy as np\n",
    "import tensorflow as tf\n",
    "\n",
    "# Load the trained model\n",
    "model = load_model('writerIdentifier_v4_model.h5')"
   ]
  },
  {
   "cell_type": "markdown",
   "id": "a11ff854",
   "metadata": {},
   "source": [
    "## Define Temperature Scaling Function"
   ]
  },
  {
   "cell_type": "code",
   "execution_count": 33,
   "id": "13c89fcf",
   "metadata": {},
   "outputs": [],
   "source": [
    "# Temperature scaling function\n",
    "def temperature_scale(logits, temperature):\n",
    "    scaled_logits = logits / temperature\n",
    "    scaled_probabilities = tf.nn.softmax(scaled_logits)\n",
    "    return scaled_probabilities"
   ]
  },
  {
   "cell_type": "markdown",
   "id": "1f8a2e5d",
   "metadata": {},
   "source": [
    "## Data Preparation"
   ]
  },
  {
   "cell_type": "code",
   "execution_count": 34,
   "id": "1e759faa",
   "metadata": {},
   "outputs": [
    {
     "name": "stderr",
     "output_type": "stream",
     "text": [
      "C:\\Users\\Janice\\AppData\\Local\\Temp\\ipykernel_34296\\1940292274.py:16: DeprecationWarning: ANTIALIAS is deprecated and will be removed in Pillow 10 (2023-07-01). Use LANCZOS or Resampling.LANCZOS instead.\n",
      "  img.thumbnail(target_size, Image.ANTIALIAS)\n"
     ]
    }
   ],
   "source": [
    "# Preprocess the input image\n",
    "image_number = 17\n",
    "resized_image = resizeImage(image_number)\n",
    "input_image = np.array(resized_image)\n",
    "# Normalise\n",
    "input_image = input_image.reshape(1, 28, 28, 1).astype('float32') / 255.0\n",
    "\n",
    "# Convert the input image to a TensorFlow tensor\n",
    "input_tensor = tf.convert_to_tensor(input_image)"
   ]
  },
  {
   "cell_type": "markdown",
   "id": "747cfdb0",
   "metadata": {},
   "source": [
    "## Prediction and Apply Calibration Using Temperature Scaling"
   ]
  },
  {
   "cell_type": "code",
   "execution_count": 35,
   "id": "8384a8a1",
   "metadata": {},
   "outputs": [
    {
     "name": "stdout",
     "output_type": "stream",
     "text": [
      "Predicted Writer: Jasmine\n",
      "Confidence: 0.9863123\n"
     ]
    }
   ],
   "source": [
    "# Make predictions\n",
    "logits = model(input_tensor)\n",
    "\n",
    "# Apply temperature scaling\n",
    "temperature = 0.05  # Adjust the temperature value as needed\n",
    "scaled_probabilities = temperature_scale(logits, temperature)\n",
    "\n",
    "# Convert the scaled probabilities to a NumPy array\n",
    "scaled_probabilities = scaled_probabilities.numpy()\n",
    "\n",
    "# Get the writer with the highest probability\n",
    "predicted_writer_index = np.argmax(scaled_probabilities)\n",
    "confidence = np.max(scaled_probabilities)\n",
    "\n",
    "# Map the predicted index to the actual writer label\n",
    "# 1 - Janice; 2 - Jasmine\n",
    "writers = [1, 2]  # List of writer labels used during training\n",
    "predicted_writer = writers[predicted_writer_index]\n",
    "\n",
    "# Print the predicted writer and confidence score\n",
    "print('Predicted Writer:', \"Janice\" if predicted_writer == 1 else \"Jasmine\")\n",
    "print('Confidence:', confidence)"
   ]
  }
 ],
 "metadata": {
  "kernelspec": {
   "display_name": "Python 3 (ipykernel)",
   "language": "python",
   "name": "python3"
  },
  "language_info": {
   "codemirror_mode": {
    "name": "ipython",
    "version": 3
   },
   "file_extension": ".py",
   "mimetype": "text/x-python",
   "name": "python",
   "nbconvert_exporter": "python",
   "pygments_lexer": "ipython3",
   "version": "3.9.16"
  }
 },
 "nbformat": 4,
 "nbformat_minor": 5
}
