{
 "cells": [
  {
   "cell_type": "code",
   "execution_count": 6,
   "id": "32c9112a",
   "metadata": {},
   "outputs": [],
   "source": [
    "# !pip install numpy\n",
    "# !pip install opencv-python\n",
    "# !pip install matplotlib\n",
    "# !pip install tensorflow\n",
    "# !pip install scikit-learn"
   ]
  },
  {
   "cell_type": "markdown",
   "id": "3b2f031d",
   "metadata": {},
   "source": [
    "## Resize Image to 28x28\n",
    "- Datasets: contains 2 members's handwriting"
   ]
  },
  {
   "cell_type": "code",
   "execution_count": 2,
   "id": "a24d2f21",
   "metadata": {},
   "outputs": [],
   "source": [
    "import os\n",
    "from PIL import Image"
   ]
  },
  {
   "cell_type": "code",
   "execution_count": 12,
   "id": "28f5b175",
   "metadata": {},
   "outputs": [
    {
     "name": "stdout",
     "output_type": "stream",
     "text": [
      "Before resizing:\n",
      "Janice\n",
      "Size (2182, 1538)\n",
      "Mode RGB\n",
      "\n",
      "Jasmine\n",
      "Size (2182, 1538)\n",
      "Mode RGB\n"
     ]
    }
   ],
   "source": [
    "print(\"Before resizing:\")\n",
    "img_path = \"Datasets/Janice/Janice-1.jpg\"\n",
    "img = Image.open(img_path)\n",
    "print(\"Janice\")\n",
    "print(f\"Size {img.size}\")\n",
    "print(f\"Mode {img.mode}\")\n",
    "\n",
    "print(\"\\nJasmine\")\n",
    "img_path = \"Datasets/Jasmine/Jasmine-1.jpg\"\n",
    "img = Image.open(img_path)\n",
    "print(f\"Size {img.size}\")\n",
    "print(f\"Mode {img.mode}\")"
   ]
  },
  {
   "cell_type": "code",
   "execution_count": 9,
   "id": "ce65d879",
   "metadata": {},
   "outputs": [
    {
     "name": "stderr",
     "output_type": "stream",
     "text": [
      "C:\\Users\\Janice\\AppData\\Local\\Temp\\ipykernel_34400\\2088097124.py:22: DeprecationWarning: ANTIALIAS is deprecated and will be removed in Pillow 10 (2023-07-01). Use LANCZOS or Resampling.LANCZOS instead.\n",
      "  img.thumbnail(target_size, Image.ANTIALIAS)\n"
     ]
    }
   ],
   "source": [
    "input_dir = 'Datasets'\n",
    "member = ['Janice', 'Jasmine']\n",
    "\n",
    "output_dir = 'Resized-Datasets'\n",
    "target_size = (28, 28)\n",
    "\n",
    "# Create the output directory if it doesn't exist\n",
    "os.makedirs(output_dir, exist_ok=True)\n",
    "\n",
    "for i in range(len(member)):\n",
    "    image_number = 1\n",
    "    # Iterate over the files in the directory\n",
    "    while os.path.isfile(f\"{input_dir}/{member[i]}/{member[i]}-{image_number}.jpg\"):\n",
    "        # Load the image\n",
    "        img_path = f\"{input_dir}/{member[i]}/{member[i]}-{image_number}.jpg\"\n",
    "        img = Image.open(img_path)\n",
    "        \n",
    "        # Resize the image while maintaining the aspect ratio using thumbnail method\n",
    "        img.thumbnail(target_size, Image.ANTIALIAS)\n",
    "        \n",
    "        # Create a new image with the target size as canvas\n",
    "        resized_image = Image.new('L', target_size, 255)\n",
    "        \n",
    "        # Calculate the offset so that image will be pasted at the centre of the canvas\n",
    "        offset = ((target_size[0] - img.size[0]) // 2, (target_size[1] - img.size[1]) // 2)\n",
    "        # Paste the resized image onto the canvas\n",
    "        resized_image.paste(img, offset)\n",
    "        \n",
    "        # Save the resized image to the output directory\n",
    "        output_path = f\"{output_dir}/{i+1}/{member[i]}-{image_number}.jpg\"\n",
    "        resized_image.save(output_path)\n",
    "        \n",
    "        image_number += 1\n"
   ]
  },
  {
   "cell_type": "code",
   "execution_count": 14,
   "id": "f70ac2ff",
   "metadata": {},
   "outputs": [
    {
     "name": "stdout",
     "output_type": "stream",
     "text": [
      "After resizing:\n",
      "Janice\n",
      "Size (28, 28)\n",
      "Mode L\n",
      "\n",
      "Jasmine\n",
      "Size (28, 28)\n",
      "Mode L\n"
     ]
    }
   ],
   "source": [
    "print(\"After resizing:\")\n",
    "print(\"Janice\")\n",
    "img_path = \"Resized-Datasets/1/Janice-1.jpg\"\n",
    "img = Image.open(img_path)\n",
    "print(f\"Size {img.size}\")\n",
    "print(f\"Mode {img.mode}\")\n",
    "\n",
    "print(\"\\nJasmine\")\n",
    "img_path = \"Resized-Datasets/2/Jasmine-1.jpg\"\n",
    "img = Image.open(img_path)\n",
    "print(f\"Size {img.size}\")\n",
    "print(f\"Mode {img.mode}\")"
   ]
  }
 ],
 "metadata": {
  "kernelspec": {
   "display_name": "Python 3 (ipykernel)",
   "language": "python",
   "name": "python3"
  },
  "language_info": {
   "codemirror_mode": {
    "name": "ipython",
    "version": 3
   },
   "file_extension": ".py",
   "mimetype": "text/x-python",
   "name": "python",
   "nbconvert_exporter": "python",
   "pygments_lexer": "ipython3",
   "version": "3.9.16"
  }
 },
 "nbformat": 4,
 "nbformat_minor": 5
}
