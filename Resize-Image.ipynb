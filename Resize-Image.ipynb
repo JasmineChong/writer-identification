{
 "cells": [
  {
   "cell_type": "code",
   "execution_count": 6,
   "id": "60a1282c",
   "metadata": {},
   "outputs": [],
   "source": [
    "# !pip install numpy\n",
    "# !pip install opencv-python\n",
    "# !pip install matplotlib\n",
    "# !pip install tensorflow\n",
    "# !pip install scikit-learn"
   ]
  },
  {
   "cell_type": "markdown",
   "id": "6ca47b57",
   "metadata": {},
   "source": [
    "## Resize Image to 28x28\n",
    "- Datasets: contains 2 members's handwriting"
   ]
  },
  {
   "cell_type": "code",
   "execution_count": 8,
   "id": "41bfe3a7",
   "metadata": {},
   "outputs": [
    {
     "name": "stderr",
     "output_type": "stream",
     "text": [
      "C:\\Users\\Janice\\AppData\\Local\\Temp\\ipykernel_34400\\2088097124.py:22: DeprecationWarning: ANTIALIAS is deprecated and will be removed in Pillow 10 (2023-07-01). Use LANCZOS or Resampling.LANCZOS instead.\n",
      "  img.thumbnail(target_size, Image.ANTIALIAS)\n"
     ]
    }
   ],
   "source": [
    "import os\n",
    "from PIL import Image\n",
    "\n",
    "input_dir = 'Datasets'\n",
    "member = ['Janice', 'Jasmine']\n",
    "\n",
    "output_dir = 'Resized-Datasets'\n",
    "target_size = (28, 28)\n",
    "\n",
    "# Create the output directory if it doesn't exist\n",
    "os.makedirs(output_dir, exist_ok=True)\n",
    "\n",
    "for i in range(len(member)):\n",
    "    image_number = 1\n",
    "    # Iterate over the files in the directory\n",
    "    while os.path.isfile(f\"{input_dir}/{member[i]}/{member[i]}-{image_number}.jpg\"):\n",
    "        # Load the image\n",
    "        img_path = f\"{input_dir}/{member[i]}/{member[i]}-{image_number}.jpg\"\n",
    "        img = Image.open(img_path)\n",
    "        \n",
    "        # Resize the image while maintaining the aspect ratio using thumbnail method\n",
    "        img.thumbnail(target_size, Image.ANTIALIAS)\n",
    "        \n",
    "        # Create a new image with the target size as canvas\n",
    "        resized_image = Image.new('L', target_size, 255)\n",
    "        \n",
    "        # Paste the resized image onto the canvas\n",
    "        offset = ((target_size[0] - img.size[0]) // 2, (target_size[1] - img.size[1]) // 2)\n",
    "        resized_image.paste(img, offset)\n",
    "        \n",
    "        # Save the resized image to the output directory\n",
    "        output_path = f\"{output_dir}/{i+1}/{member[i]}-{image_number}.jpg\"\n",
    "        resized_image.save(output_path)\n",
    "        \n",
    "        image_number += 1\n"
   ]
  }
 ],
 "metadata": {
  "kernelspec": {
   "display_name": "Python 3 (ipykernel)",
   "language": "python",
   "name": "python3"
  },
  "language_info": {
   "codemirror_mode": {
    "name": "ipython",
    "version": 3
   },
   "file_extension": ".py",
   "mimetype": "text/x-python",
   "name": "python",
   "nbconvert_exporter": "python",
   "pygments_lexer": "ipython3",
   "version": "3.9.16"
  }
 },
 "nbformat": 4,
 "nbformat_minor": 5
}
